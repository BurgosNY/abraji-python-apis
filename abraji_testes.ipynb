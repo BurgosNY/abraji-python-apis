{
 "cells": [
  {
   "cell_type": "markdown",
   "metadata": {},
   "source": [
    "## Configurando o ambiente"
   ]
  },
  {
   "cell_type": "code",
   "execution_count": 23,
   "metadata": {},
   "outputs": [],
   "source": [
    "import requests\n",
    "import pandas as pd"
   ]
  },
  {
   "cell_type": "markdown",
   "metadata": {},
   "source": [
    "### 1. Usando uma API simples, como a da [Câmara Federal](https://dadosabertos.camara.leg.br/swagger/api.html).\n",
    "Teste no navegador: https://dadosabertos.camara.leg.br/api/v2/"
   ]
  },
  {
   "cell_type": "markdown",
   "metadata": {},
   "source": [
    "1.1 Pegando uma lista de deputados (**ver código**)  \n",
    "1.2 Resolvendo a paginação   \n",
    "1.3 Organizando uma tabela com pandas  \n",
    "1.4 Limpando os dados  \n",
    "1.5 Operação simples com o pandas: groupby()  \n",
    "1.6 Salvando"
   ]
  },
  {
   "cell_type": "markdown",
   "metadata": {},
   "source": [
    "### 2. Explorando APIs complexas\n"
   ]
  },
  {
   "cell_type": "markdown",
   "metadata": {},
   "source": [
    "2.1 O caso do Facebook  \n",
    "2.2 Criando um novo \"app\" (ex. [Twitter](http://apps.twitter.com/))  \n",
    "2.3 Requests vs os \"wrappers\"  \n",
    "2.4 Configurando o ambiente  \n",
    "2.5 Explorando o [Tweepy](http://docs.tweepy.org/en/v3.6.0/)  "
   ]
  },
  {
   "cell_type": "code",
   "execution_count": 24,
   "metadata": {},
   "outputs": [],
   "source": [
    "import pendulum\n",
    "import tweepy\n",
    "import os\n",
    "from dotenv import load_dotenv, find_dotenv\n",
    "load_dotenv(find_dotenv())\n",
    "\n",
    "# Buscando os dados sensíveis nos arquivos .env\n",
    "consumer_key = os.environ.get('CONSUMER_KEY')\n",
    "consumer_secret = os.environ.get('CONSUMER_SECRET')\n",
    "access_token = os.environ.get('ACCESS_TOKEN')\n",
    "access_token_secret = os.environ.get('ACCESS_TOKEN_SECRET')\n",
    "\n",
    "# Configurando o tweepy\n",
    "auth = tweepy.OAuthHandler(consumer_key, consumer_secret)\n",
    "auth.set_access_token(access_token, access_token_secret)\n",
    "\n",
    "api = tweepy.API(auth)"
   ]
  },
  {
   "cell_type": "markdown",
   "metadata": {},
   "source": [
    "2.6 Consultando dados de um usuário  \n",
    "2.7 Listas do Twitter  \n",
    "2.8 Pandas para organizar membros da lista  \n",
    "2.9 Biblioteca \"[pendulum](https://pendulum.eustace.io/docs/)\"  \n",
    "2.10 Funções para reorganizar tabela (apply(), soma de colunas, \"sort\", 'drop()')"
   ]
  },
  {
   "cell_type": "markdown",
   "metadata": {},
   "source": [
    "### 3. Exportando os dados "
   ]
  },
  {
   "cell_type": "markdown",
   "metadata": {},
   "source": [
    "3.1 to_csv  "
   ]
  },
  {
   "cell_type": "markdown",
   "metadata": {},
   "source": [
    "**Olááááá, AirTable!**\n",
    "- Vamos nos inscrever [no serviço](https://airtable.com/)  \n",
    "- Gerar um [API Key](https://airtable.com/account)\n",
    "- E criar um tabela. Pegar os dados de \"api key\", \"base key\".\n",
    "- Usar um [wrapper](https://github.com/gtalarico/airtable-python-wrapper)"
   ]
  },
  {
   "cell_type": "code",
   "execution_count": 10,
   "metadata": {},
   "outputs": [],
   "source": [
    "from airtable import Airtable\n",
    "\n",
    "air = Airtable(base_key='', \n",
    "               table_name='', \n",
    "               api_key='')\n"
   ]
  },
  {
   "cell_type": "markdown",
   "metadata": {},
   "source": [
    "3.2 air.update_by_field()  \n",
    "3.3 air.insert() "
   ]
  },
  {
   "cell_type": "markdown",
   "metadata": {},
   "source": [
    "### 4. Interlúdio: um pouco de scraping\n",
    "\n",
    "<img src=\"https://images-na.ssl-images-amazon.com/images/I/716ZgomKe-L.jpg\" width=\"300\">\n",
    "\n",
    "Por que isso é importante? Alguns sites não têm API"
   ]
  },
  {
   "cell_type": "markdown",
   "metadata": {},
   "source": [
    "### 5. Fazendo um fura-bolha"
   ]
  },
  {
   "cell_type": "markdown",
   "metadata": {},
   "source": [
    "5.1 pegando membros de uma lista (api.list_members(owner_screen_name, slug))  \n",
    "5.2 armazenando as timelines de cada (api.user_timeline)  \n",
    "5.3 limpando os dados no pandas. \n",
    "5.4 selecionando pedaços de dados df[df['retweeted'] == False]  \n",
    "5.5 agrupando com \"groupby\"  \n",
    "5.6 criando um ranking  "
   ]
  },
  {
   "cell_type": "code",
   "execution_count": null,
   "metadata": {},
   "outputs": [],
   "source": []
  }
 ],
 "metadata": {
  "kernelspec": {
   "display_name": "Python 3",
   "language": "python",
   "name": "python3"
  },
  "language_info": {
   "codemirror_mode": {
    "name": "ipython",
    "version": 3
   },
   "file_extension": ".py",
   "mimetype": "text/x-python",
   "name": "python",
   "nbconvert_exporter": "python",
   "pygments_lexer": "ipython3",
   "version": "3.6.3"
  }
 },
 "nbformat": 4,
 "nbformat_minor": 2
}
